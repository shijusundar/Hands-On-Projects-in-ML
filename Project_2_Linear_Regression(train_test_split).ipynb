{
  "nbformat": 4,
  "nbformat_minor": 0,
  "metadata": {
    "colab": {
      "provenance": []
    },
    "kernelspec": {
      "name": "python3",
      "display_name": "Python 3"
    },
    "language_info": {
      "name": "python"
    }
  },
  "cells": [
    {
      "cell_type": "markdown",
      "source": [
        "***Question:*** You have a given housing dataset. Split this data into train and test data.Train a Linear regression model with the training data and predict the target values for test data.Also check MSE."
      ],
      "metadata": {
        "id": "VUKwajdNjux1"
      }
    },
    {
      "cell_type": "markdown",
      "source": [
        "***Import required Libraries***"
      ],
      "metadata": {
        "id": "08kvsjJ0x1Wn"
      }
    },
    {
      "cell_type": "code",
      "source": [
        "import numpy as np\n",
        "import matplotlib.pyplot as plt\n",
        "from sklearn import linear_model\n",
        "from sklearn.metrics import mean_squared_error\n",
        "from sklearn.model_selection import train_test_split "
      ],
      "metadata": {
        "id": "UO7r7-n2j5x8"
      },
      "execution_count": 1,
      "outputs": []
    },
    {
      "cell_type": "markdown",
      "source": [
        "***Load Data***"
      ],
      "metadata": {
        "id": "IdxuTecZx9wU"
      }
    },
    {
      "cell_type": "code",
      "source": [
        "data=np.loadtxt(open(\"housing_data.csv\",\"rb\"),delimiter=\",\")\n",
        "print(data.shape)"
      ],
      "metadata": {
        "colab": {
          "base_uri": "https://localhost:8080/"
        },
        "id": "1goNzbcilabd",
        "outputId": "b88526b8-8c0e-406f-edc4-a2d174b353d8"
      },
      "execution_count": 2,
      "outputs": [
        {
          "output_type": "stream",
          "name": "stdout",
          "text": [
            "(506, 14)\n"
          ]
        }
      ]
    },
    {
      "cell_type": "markdown",
      "source": [
        "***Seperate x and y***"
      ],
      "metadata": {
        "id": "NK0xYjPMyCwr"
      }
    },
    {
      "cell_type": "code",
      "source": [
        "x=data[:,0:13]\n",
        "y=data[:,13]\n",
        "y=y.reshape(-1,1)\n",
        "print(x.shape)\n",
        "print(y.shape)"
      ],
      "metadata": {
        "colab": {
          "base_uri": "https://localhost:8080/"
        },
        "id": "SKiLNW3dl0G-",
        "outputId": "b32be6d3-af63-4c45-a2fc-3a003cfbfa36"
      },
      "execution_count": 4,
      "outputs": [
        {
          "output_type": "stream",
          "name": "stdout",
          "text": [
            "(506, 13)\n",
            "(506, 1)\n"
          ]
        }
      ]
    },
    {
      "cell_type": "markdown",
      "source": [
        "***Split data***"
      ],
      "metadata": {
        "id": "NHY38vj_yO1G"
      }
    },
    {
      "cell_type": "code",
      "source": [
        "x_train,x_test,y_train,y_test=train_test_split(x,y,test_size=0.20,random_state=42)\n",
        "print(x_train.shape,y_train.shape,x_test.shape,y_test.shape)"
      ],
      "metadata": {
        "colab": {
          "base_uri": "https://localhost:8080/"
        },
        "id": "mm4tWANMslmq",
        "outputId": "7b14b53b-9f29-4532-cbfc-9443107af285"
      },
      "execution_count": 5,
      "outputs": [
        {
          "output_type": "stream",
          "name": "stdout",
          "text": [
            "(404, 13) (404, 1) (102, 13) (102, 1)\n"
          ]
        }
      ]
    },
    {
      "cell_type": "markdown",
      "source": [
        "***Select the model***"
      ],
      "metadata": {
        "id": "jQB7zjfIyqCY"
      }
    },
    {
      "cell_type": "code",
      "source": [
        "model=linear_model.LinearRegression(fit_intercept=True)\n",
        "model.fit(x_train,y_train)"
      ],
      "metadata": {
        "colab": {
          "base_uri": "https://localhost:8080/"
        },
        "id": "pM1Ybd6UwDx1",
        "outputId": "1014a504-a0bc-496c-c4bb-5fbe3cf66717"
      },
      "execution_count": 6,
      "outputs": [
        {
          "output_type": "execute_result",
          "data": {
            "text/plain": [
              "LinearRegression()"
            ]
          },
          "metadata": {},
          "execution_count": 6
        }
      ]
    },
    {
      "cell_type": "markdown",
      "source": [
        "***Coefficient and intercept***"
      ],
      "metadata": {
        "id": "Sw6thHfwyyQP"
      }
    },
    {
      "cell_type": "code",
      "source": [
        "print(model.coef_)\n",
        "print(model.intercept_)"
      ],
      "metadata": {
        "id": "gqSVoaILwusr"
      },
      "execution_count": null,
      "outputs": []
    },
    {
      "cell_type": "markdown",
      "source": [
        "***Predict the data***"
      ],
      "metadata": {
        "id": "ak_T6gRNy78E"
      }
    },
    {
      "cell_type": "code",
      "source": [
        "y_pred=model.predict(x_test)"
      ],
      "metadata": {
        "id": "Y5Mwb8byw2FL"
      },
      "execution_count": 8,
      "outputs": []
    },
    {
      "cell_type": "code",
      "source": [
        "print(y_test)\n",
        "print(y_pred)"
      ],
      "metadata": {
        "id": "xyboCC5AxO8C"
      },
      "execution_count": null,
      "outputs": []
    },
    {
      "cell_type": "markdown",
      "source": [
        "***Mean Squared Error***"
      ],
      "metadata": {
        "id": "Fihk_Ai1zJr9"
      }
    },
    {
      "cell_type": "code",
      "source": [
        "error=mean_squared_error(y_pred,y_test)\n",
        "print(error)"
      ],
      "metadata": {
        "colab": {
          "base_uri": "https://localhost:8080/"
        },
        "id": "OlTm6pfHxVFD",
        "outputId": "1b360fe4-98c5-48e1-cb04-a940a5de9c8d"
      },
      "execution_count": 11,
      "outputs": [
        {
          "output_type": "stream",
          "name": "stdout",
          "text": [
            "24.311426929693507\n"
          ]
        }
      ]
    }
  ]
}