{
  "nbformat": 4,
  "nbformat_minor": 0,
  "metadata": {
    "colab": {
      "provenance": []
    },
    "kernelspec": {
      "name": "python3",
      "display_name": "Python 3"
    },
    "language_info": {
      "name": "python"
    }
  },
  "cells": [
    {
      "cell_type": "markdown",
      "source": [
        "***Question:***\n",
        "You have given a train data file and test data file. This contains only single feature and corresponding target value. Train a Linear regression model using the train data and predict target values for the test data. Also check Mean Squre Error."
      ],
      "metadata": {
        "id": "VbBA8K8cESGX"
      }
    },
    {
      "cell_type": "markdown",
      "source": [
        "***Import Required Libraries***"
      ],
      "metadata": {
        "id": "oSuB223cPsiJ"
      }
    },
    {
      "cell_type": "code",
      "source": [
        "import numpy as np\n",
        "import matplotlib.pyplot as plt\n",
        "from sklearn import linear_model\n",
        "from sklearn.metrics import mean_squared_error"
      ],
      "metadata": {
        "id": "5RilXLhmFQu2"
      },
      "execution_count": 1,
      "outputs": []
    },
    {
      "cell_type": "code",
      "source": [
        "!ls"
      ],
      "metadata": {
        "colab": {
          "base_uri": "https://localhost:8080/"
        },
        "id": "U9eSC1_IGac5",
        "outputId": "29c8a68a-be06-40ab-d738-2fc7f463b33c"
      },
      "execution_count": 2,
      "outputs": [
        {
          "output_type": "stream",
          "name": "stdout",
          "text": [
            "data_test_sv.csv  data_train_sv.csv  sample_data\n"
          ]
        }
      ]
    },
    {
      "cell_type": "markdown",
      "source": [
        "***Load Train data***"
      ],
      "metadata": {
        "id": "3GQT8S77RUeV"
      }
    },
    {
      "cell_type": "code",
      "source": [
        "data_train=np.loadtxt(open(\"data_train_sv.csv\",\"rb\"),delimiter=\",\")\n",
        "print(data.shape)"
      ],
      "metadata": {
        "colab": {
          "base_uri": "https://localhost:8080/"
        },
        "id": "dtKzFWBWHLO2",
        "outputId": "8baa2b79-a6b3-406d-d8f5-aad1b590767d"
      },
      "execution_count": 30,
      "outputs": [
        {
          "output_type": "stream",
          "name": "stdout",
          "text": [
            "(77, 2)\n"
          ]
        }
      ]
    },
    {
      "cell_type": "code",
      "source": [
        "!cat data_train_sv.csv"
      ],
      "metadata": {
        "id": "Wq54a15mIS4l"
      },
      "execution_count": null,
      "outputs": []
    },
    {
      "cell_type": "markdown",
      "source": [
        "***Seperate Training data to x_train and y_train***"
      ],
      "metadata": {
        "id": "f-pfXnA3RkId"
      }
    },
    {
      "cell_type": "code",
      "source": [
        "x_train=data_train[:,0]\n",
        "x_train=x_train.reshape(-1,1)\n",
        "y_train=data_train[:,1]\n",
        "y_train=y_train.reshape(-1,1)\n",
        "print(x_train.shape)\n",
        "print(y_train.shape)"
      ],
      "metadata": {
        "colab": {
          "base_uri": "https://localhost:8080/"
        },
        "id": "IfBRVHwrIgcB",
        "outputId": "72f8a4c5-b8dd-4b95-8d81-6ec697e846a7"
      },
      "execution_count": 13,
      "outputs": [
        {
          "output_type": "stream",
          "name": "stdout",
          "text": [
            "(77, 1)\n",
            "(77, 1)\n"
          ]
        }
      ]
    },
    {
      "cell_type": "markdown",
      "source": [
        "***Select the Model***"
      ],
      "metadata": {
        "id": "aXh-AjMzR31n"
      }
    },
    {
      "cell_type": "code",
      "source": [
        "model=linear_model.LinearRegression(fit_intercept=True)\n",
        "model.fit(x_train,y_train)"
      ],
      "metadata": {
        "colab": {
          "base_uri": "https://localhost:8080/"
        },
        "id": "D_0jLE__JIub",
        "outputId": "774a0f58-3e1c-4e3b-f058-255ae11ff40a"
      },
      "execution_count": 14,
      "outputs": [
        {
          "output_type": "execute_result",
          "data": {
            "text/plain": [
              "LinearRegression()"
            ]
          },
          "metadata": {},
          "execution_count": 14
        }
      ]
    },
    {
      "cell_type": "code",
      "source": [
        "print(model.coef_)\n",
        "print(model.intercept_)"
      ],
      "metadata": {
        "colab": {
          "base_uri": "https://localhost:8080/"
        },
        "id": "o-f55estJgRr",
        "outputId": "f64f46df-a24e-4332-9d65-a78124992150"
      },
      "execution_count": 15,
      "outputs": [
        {
          "output_type": "stream",
          "name": "stdout",
          "text": [
            "[[1.19367575]]\n",
            "[-3.63963925]\n"
          ]
        }
      ]
    },
    {
      "cell_type": "markdown",
      "source": [
        "***Load the Test data***"
      ],
      "metadata": {
        "id": "sm3-gCvfSGKF"
      }
    },
    {
      "cell_type": "code",
      "source": [
        "data_test=np.loadtxt(open(\"data_test_sv.csv\",\"rb\"),delimiter=\",\")"
      ],
      "metadata": {
        "id": "Y5oYKXryJtoj"
      },
      "execution_count": 16,
      "outputs": []
    },
    {
      "cell_type": "markdown",
      "source": [
        "***Seperate Load data to x_test and y_test***"
      ],
      "metadata": {
        "id": "aeXunAWRSQfi"
      }
    },
    {
      "cell_type": "code",
      "source": [
        "x_test=data_test[:,0]\n",
        "x_test=x_test.reshape(-1,1)\n",
        "y_test=data_test[:,1]\n",
        "y_test=y_test.reshape(-1,1)\n",
        "print(x_test.shape)\n",
        "print(y_test.shape)"
      ],
      "metadata": {
        "colab": {
          "base_uri": "https://localhost:8080/"
        },
        "id": "aAmp9u7-Kjuv",
        "outputId": "0b14e9f2-efaf-44da-e09a-0525ae3b247f"
      },
      "execution_count": 18,
      "outputs": [
        {
          "output_type": "stream",
          "name": "stdout",
          "text": [
            "(20, 1)\n",
            "(20, 1)\n"
          ]
        }
      ]
    },
    {
      "cell_type": "markdown",
      "source": [
        "***predict from x_test***"
      ],
      "metadata": {
        "id": "VZLQrVj0Sebr"
      }
    },
    {
      "cell_type": "code",
      "source": [
        "y_pred=model.predict(x_test)"
      ],
      "metadata": {
        "id": "qlHnA2XJLmT0"
      },
      "execution_count": 19,
      "outputs": []
    },
    {
      "cell_type": "code",
      "source": [
        "print(y_test)"
      ],
      "metadata": {
        "colab": {
          "base_uri": "https://localhost:8080/"
        },
        "id": "zuDuKAgsMRvl",
        "outputId": "44b7bbb2-20eb-4965-d06c-bed1a11c838c"
      },
      "execution_count": 20,
      "outputs": [
        {
          "output_type": "stream",
          "name": "stdout",
          "text": [
            "[[5.7014 ]\n",
            " [6.7526 ]\n",
            " [2.0576 ]\n",
            " [0.47953]\n",
            " [0.20421]\n",
            " [0.67861]\n",
            " [7.5435 ]\n",
            " [5.3436 ]\n",
            " [4.2415 ]\n",
            " [6.7981 ]\n",
            " [0.92695]\n",
            " [0.152  ]\n",
            " [2.8214 ]\n",
            " [1.8451 ]\n",
            " [4.2959 ]\n",
            " [7.2029 ]\n",
            " [1.9869 ]\n",
            " [0.14454]\n",
            " [9.0551 ]\n",
            " [0.61705]]\n"
          ]
        }
      ]
    },
    {
      "cell_type": "code",
      "source": [
        "print(y_pred)"
      ],
      "metadata": {
        "colab": {
          "base_uri": "https://localhost:8080/"
        },
        "id": "lNCqkDy8MWgx",
        "outputId": "c4f7496e-4b6b-47c9-c97b-71c42bb96399"
      },
      "execution_count": 21,
      "outputs": [
        {
          "output_type": "stream",
          "name": "stdout",
          "text": [
            "[[ 2.37230864]\n",
            " [ 8.62418536]\n",
            " [ 2.45729836]\n",
            " [ 3.19916783]\n",
            " [ 2.55362799]\n",
            " [ 3.94700569]\n",
            " [ 8.02102101]\n",
            " [ 4.13823254]\n",
            " [ 6.52713581]\n",
            " [ 7.31854283]\n",
            " [ 3.52480258]\n",
            " [ 2.94992834]\n",
            " [ 2.39964382]\n",
            " [ 3.1735038 ]\n",
            " [ 5.47598495]\n",
            " [ 3.36807295]\n",
            " [ 2.69328805]\n",
            " [ 6.25999118]\n",
            " [12.34845369]\n",
            " [ 2.85025641]]\n"
          ]
        }
      ]
    },
    {
      "cell_type": "markdown",
      "source": [
        "***Mean Squared Error***"
      ],
      "metadata": {
        "id": "tLW5Fc94M5yO"
      }
    },
    {
      "cell_type": "code",
      "source": [
        "error=mean_squared_error(y_test,y_pred)\n",
        "print(error)"
      ],
      "metadata": {
        "colab": {
          "base_uri": "https://localhost:8080/"
        },
        "id": "-VY73dlFM9hX",
        "outputId": "17c3e9b6-4407-4e94-b44a-734395b7156a"
      },
      "execution_count": 23,
      "outputs": [
        {
          "output_type": "stream",
          "name": "stdout",
          "text": [
            "6.593468270825139\n"
          ]
        }
      ]
    },
    {
      "cell_type": "markdown",
      "source": [
        "***Plot x_test vs y_pred***"
      ],
      "metadata": {
        "id": "iIRlkUUSNg0C"
      }
    },
    {
      "cell_type": "code",
      "source": [
        "plt.scatter(x_test,y_test,color='red')\n",
        "plt.plot(x_test,y_pred,color='blue',linewidth=3)\n",
        "plt.xlabel(\"x_test\")\n",
        "plt.ylabel(\"y_test\")\n",
        "plt.title(\"x_test vs y_pred\")\n",
        "plt.xticks(())\n",
        "plt.yticks(())\n",
        "plt.show()\n"
      ],
      "metadata": {
        "colab": {
          "base_uri": "https://localhost:8080/",
          "height": 279
        },
        "id": "w497PobINr2E",
        "outputId": "5128c6a3-7641-47a4-9f8e-718eda62bcf7"
      },
      "execution_count": 29,
      "outputs": [
        {
          "output_type": "display_data",
          "data": {
            "text/plain": [
              "<Figure size 432x288 with 1 Axes>"
            ],
            "image/png": "[encoded data removed]"
          },
          "metadata": {}
        }
      ]
    },
    {
      "cell_type": "code",
      "source": [],
      "metadata": {
        "id": "aVWMOiBjOG5t"
      },
      "execution_count": null,
      "outputs": []
    }
  ]
}